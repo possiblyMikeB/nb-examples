{
 "cells": [
  {
   "cell_type": "code",
   "execution_count": 1,
   "metadata": {},
   "outputs": [
    {
     "name": "stdout",
     "output_type": "stream",
     "text": [
      "x =\r\n",
      "\r\n",
      "   0.1516945   0.0494866  -0.0290465   0.0627909  -0.0321394\r\n",
      "  -0.0158537   0.1505816  -0.0112670  -0.0089190  -0.0316081\r\n",
      "  -0.0648761  -0.0155909   0.2179596  -0.0577821   0.0467209\r\n",
      "   0.0026841   0.0145581  -0.0062193   0.1697298   0.0449345\r\n",
      "  -0.0662414   0.0138166   0.0530326  -0.0486459   0.2482917\r\n",
      "\r\n",
      "x0 =\r\n",
      "\r\n",
      "   7.053353  -2.130888   0.533595  -2.266948   0.951588\r\n",
      "   1.127012   6.198348   0.273222   0.242446   0.839657\r\n",
      "   1.759144  -0.052885   5.056686   0.816197  -0.878249\r\n",
      "  -0.499922  -0.248185   0.385684   5.843427  -1.226391\r\n",
      "   1.345357  -0.950741  -0.877340   0.352240   4.181977\r\n",
      "\r\n"
     ]
    }
   ],
   "source": [
    "[x,x0]=testing()"
   ]
  },
  {
   "cell_type": "code",
   "execution_count": 2,
   "metadata": {},
   "outputs": [
    {
     "name": "stdout",
     "output_type": "stream",
     "text": [
      "ans =\r\n",
      "\r\n",
      "   1.0000e+00  -4.4613e-17  -1.0570e-17   3.9100e-17  -2.7464e-18\r\n",
      "   4.5064e-20   1.0000e+00  -8.7790e-18   8.4449e-18  -1.6409e-17\r\n",
      "   5.2996e-17  -4.9842e-18   1.0000e+00  -6.8685e-18  -1.9079e-17\r\n",
      "  -1.6112e-17  -1.7778e-17   2.6312e-18   1.0000e+00  -4.0152e-17\r\n",
      "  -2.2100e-17  -2.9493e-17  -4.9720e-18   1.2754e-17   1.0000e+00\r\n",
      "\r\n"
     ]
    }
   ],
   "source": [
    "x0 * x"
   ]
  },
  {
   "cell_type": "code",
   "execution_count": null,
   "metadata": {},
   "outputs": [],
   "source": []
  }
 ],
 "metadata": {
  "kernelspec": {
   "display_name": "Octave",
   "language": "octave",
   "name": "octave"
  },
  "language_info": {
   "file_extension": ".m",
   "help_links": [
    {
     "text": "GNU Octave",
     "url": "https://www.gnu.org/software/octave/support.html"
    },
    {
     "text": "Octave Kernel",
     "url": "https://github.com/Calysto/octave_kernel"
    },
    {
     "text": "MetaKernel Magics",
     "url": "https://metakernel.readthedocs.io/en/latest/source/README.html"
    }
   ],
   "mimetype": "text/x-octave",
   "name": "octave",
   "version": "5.2.0"
  }
 },
 "nbformat": 4,
 "nbformat_minor": 4
}
