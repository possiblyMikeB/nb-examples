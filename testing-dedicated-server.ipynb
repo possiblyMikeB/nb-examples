{
 "cells": [
  {
   "cell_type": "markdown",
   "metadata": {},
   "source": [
    "## Define Task"
   ]
  },
  {
   "cell_type": "code",
   "execution_count": 1,
   "metadata": {},
   "outputs": [],
   "source": [
    "from time import sleep \n",
    "\n",
    "def store_val(val):\n",
    "    \"\"\"append repr of `val` to output file\"\"\"\n",
    "    with open('testing-dedicated-server.output', 'a') as out:\n",
    "        print(f'{val}', file=out, flush=True)\n",
    "        pass\n",
    "\n",
    "def main():\n",
    "    \"\"\"main task\"\"\"\n",
    "    num=0\n",
    "    \n",
    "    # begin infinite loop; only terminated when \n",
    "    #.  slurm job killed\n",
    "    while True:\n",
    "        sleep(60)\n",
    "        store_val(num)\n",
    "        num+=1\n",
    "        "
   ]
  },
  {
   "cell_type": "markdown",
   "metadata": {},
   "source": [
    "## Run Task"
   ]
  },
  {
   "cell_type": "code",
   "execution_count": null,
   "metadata": {},
   "outputs": [],
   "source": [
    "main()"
   ]
  }
 ],
 "metadata": {
  "kernelspec": {
   "display_name": "Python 3",
   "language": "python",
   "name": "python3"
  },
  "language_info": {
   "codemirror_mode": {
    "name": "ipython",
    "version": 3
   },
   "file_extension": ".py",
   "mimetype": "text/x-python",
   "name": "python",
   "nbconvert_exporter": "python",
   "pygments_lexer": "ipython3",
   "version": "3.6.10"
  }
 },
 "nbformat": 4,
 "nbformat_minor": 4
}
